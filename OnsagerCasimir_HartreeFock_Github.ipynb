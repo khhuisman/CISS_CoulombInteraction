{
 "cells": [
  {
   "cell_type": "markdown",
   "metadata": {},
   "source": [
    "# Hartree Fock Approximation. "
   ]
  },
  {
   "cell_type": "code",
   "execution_count": null,
   "metadata": {},
   "outputs": [],
   "source": [
    "# Notebook serves as verification of Onsager-Casimir Relation"
   ]
  },
  {
   "cell_type": "markdown",
   "metadata": {},
   "source": [
    "## Packages"
   ]
  },
  {
   "cell_type": "code",
   "execution_count": null,
   "metadata": {},
   "outputs": [],
   "source": [
    "import numpy as np\n",
    "import matplotlib.pyplot as plt"
   ]
  },
  {
   "cell_type": "markdown",
   "metadata": {},
   "source": [
    "## Path to modules"
   ]
  },
  {
   "cell_type": "code",
   "execution_count": null,
   "metadata": {},
   "outputs": [],
   "source": [
    "import sys\n",
    "\n",
    "# sys.path.insert(0, '<path_to_modules>')"
   ]
  },
  {
   "cell_type": "markdown",
   "metadata": {},
   "source": [
    "## Scattering Region"
   ]
  },
  {
   "cell_type": "code",
   "execution_count": null,
   "metadata": {},
   "outputs": [],
   "source": [
    "import ChiralChainModel_git\n",
    "import Geometry_Git\n",
    "Geometry_Git.plot3d_chain(a=1,c=1,M=1,N=8)"
   ]
  },
  {
   "cell_type": "markdown",
   "metadata": {},
   "source": [
    "## Functions for electron density"
   ]
  },
  {
   "cell_type": "code",
   "execution_count": null,
   "metadata": {},
   "outputs": [],
   "source": [
    "import Integration_Trapz_git"
   ]
  },
  {
   "cell_type": "code",
   "execution_count": null,
   "metadata": {},
   "outputs": [],
   "source": [
    "import negf_git"
   ]
  },
  {
   "cell_type": "markdown",
   "metadata": {},
   "source": [
    "\n",
    "## Define Scattering Region"
   ]
  },
  {
   "cell_type": "code",
   "execution_count": null,
   "metadata": {
    "scrolled": true
   },
   "outputs": [],
   "source": [
    "Lm = 8             #number of sites \n",
    "chirality = True   #handedness of molecule \n",
    "N = Lm             # Number of sites within one winding\n",
    "M = 1              # Number of windings\n",
    "a = 1              # radius of helix\n",
    "c = 1              # pitch of helix\n",
    "\n",
    "\n",
    "epsilon = 0 # onsite energy\n",
    "t = 2.4     # hopping paramter\n",
    "\n",
    "# List of Spin-Orbit Coupling parameter\n",
    "lambdalist = [(1*(10**-1))*t,(1*(10**-3))*t]\n",
    "# List of interaction strength\n",
    "Ulist = [ 0.5*t, 2*t] \n",
    "\n",
    "\n",
    "#Gamma Matrix\n",
    "kmax  = 4      # Number spin up + down sites coupled to each lead\n",
    "gamma = 0.5    # coupling strength\n",
    "pz    = 0.5    # magnetic polarization\n",
    "\n",
    "pz_P = abs(pz)\n",
    "pz_M = -abs(pz)\n",
    "\n",
    "\n",
    "T = 300 # Kelvin Temperature of leads\n",
    "betaL,betaR = negf_git.func_beta(T), negf_git.func_beta(T) # 1/ElectronVolt\n",
    "\n"
   ]
  },
  {
   "cell_type": "markdown",
   "metadata": {},
   "source": [
    "\n",
    "# Bias window"
   ]
  },
  {
   "cell_type": "code",
   "execution_count": null,
   "metadata": {},
   "outputs": [],
   "source": [
    "Vmax = 0  # Maximum bias voltage [eV]\n",
    "V_list_total = [0]"
   ]
  },
  {
   "cell_type": "markdown",
   "metadata": {},
   "source": [
    "# Energies to integrate over, Fermi Energy"
   ]
  },
  {
   "cell_type": "code",
   "execution_count": null,
   "metadata": {},
   "outputs": [],
   "source": [
    "def func_energies(Hamiltonian0,U,npoints):\n",
    "    '''\n",
    "    Input:\n",
    "    Hamiltonian0 = molecule without interaction (U=0)\n",
    "    U = interaction strength\n",
    "    npoints = number of energy points in window [emin,emax]\n",
    "    Output:\n",
    "    emax = upper bound of intergral\n",
    "    emin = lowest eigenvalue of Hamiltonian0\n",
    "    energiesreal = list of energies between [emin-1000,emax] (make sure the emax < ef +Vmax/2)\n",
    "    eflist = list of fermi energies for which to calculate electron densities.\n",
    "    '''\n",
    "    evlist = np.linalg.eigh(Hamiltonian0)[0]\n",
    "    e_lumo = evlist[int(Hamiltonian0.shape[0]/2)-1]\n",
    "    e_homo = evlist[int(Hamiltonian0.shape[0]/2)]\n",
    "    #Fermi Energy\n",
    "    hl_gap = e_lumo - e_homo\n",
    "    \n",
    "    \n",
    "    \n",
    "    #lower,upper bound for Glesser function\n",
    "    emin = np.round(int(10*min(evlist))/10 - 10,2) #lower bound for integrals\n",
    "    emax = np.round(int(10*max(evlist))/10 + 10,2)   #lower bound for integrals\n",
    "    \n",
    "    \n",
    "    energies_zero4000 = np.linspace(emin-1000,emin,2000) #In wide band the density integrand have very long \"tail\"\n",
    "   \n",
    "    energiesreal_prime = np.linspace(emin,emax,npoints)\n",
    "    \n",
    "    energiesreal = Integration_Trapz_git.jointwolist(energies_zero4000,energiesreal_prime)\n",
    "\n",
    "#     eflist = [U/2 + abs(np.round( 0  + kappa*hl_gap/2,11)) for kappa in [0.25] ]\n",
    "    \n",
    "    #IMPORTANT: Note that ef = 0 is the \"symmetric fermi energy\", \n",
    "    #           since we shifted U<n> -> U(<n>-1/2) in the module: \"Intragration_Trapz\".\n",
    "    eflist = [ 0, 1,2  ] \n",
    "    \n",
    "    return emin,emax,npoints,energiesreal,eflist"
   ]
  },
  {
   "cell_type": "markdown",
   "metadata": {},
   "source": [
    "# Self-Consistent criteria & Integration"
   ]
  },
  {
   "cell_type": "markdown",
   "metadata": {},
   "source": [
    "Comment on the convergence: Hartree Fock converges well for small U i.e. U<t."
   ]
  },
  {
   "cell_type": "code",
   "execution_count": null,
   "metadata": {},
   "outputs": [],
   "source": [
    "tol = 10**-5\n",
    "max_iteration = 100\n",
    "\n",
    "npoints= 8000"
   ]
  },
  {
   "cell_type": "markdown",
   "metadata": {},
   "source": [
    "#### Set Paramters"
   ]
  },
  {
   "cell_type": "code",
   "execution_count": null,
   "metadata": {},
   "outputs": [],
   "source": [
    "U       = Ulist[0]\n",
    "lambda1 = lambdalist[0]\n",
    "total_list = []"
   ]
  },
  {
   "cell_type": "code",
   "execution_count": null,
   "metadata": {},
   "outputs": [],
   "source": [
    "print(total_list)"
   ]
  },
  {
   "cell_type": "code",
   "execution_count": null,
   "metadata": {
    "scrolled": true
   },
   "outputs": [],
   "source": [
    "\n",
    "GammaR,GammaLP,GammaLM,Hamiltonian0,hamiltonian_shape= ChiralChainModel_git.system_hamiltonian0(Lm,\n",
    "                                                                                epsilon,t, \n",
    "                                                                          lambda1,chirality,\n",
    "                                                                          a,c,M,N,\n",
    "                                                                            kmax,gamma,abs(pz)\n",
    "                                                                        )\n",
    "emin,emax,npoints,energiesreal,eflist = func_energies(Hamiltonian0,U,npoints)\n",
    "\n",
    "\n",
    "for i in range(len(eflist)):\n",
    "    ef = eflist[i]\n",
    "\n",
    "    print(U/t, lambda1/t,ef)\n",
    "\n",
    "\n",
    "\n",
    "    nP_list_total, convglistP = Integration_Trapz_git.self_consistent_trapz(V_list_total,Vmax,\n",
    "                                                                          max_iteration,ef,\n",
    "                                                                        U,\n",
    "                                                                        Hamiltonian0,\n",
    "                                                                        GammaLP,GammaR, \n",
    "                                                                        betaL, betaR,tol,energiesreal)\n",
    "\n",
    "\n",
    "\n",
    "    nM_list_total, convglistM = Integration_Trapz_git.self_consistent_trapz(V_list_total,Vmax,\n",
    "                                                                          max_iteration,\n",
    "                                                                            ef,\n",
    "                                                                        U,\n",
    "                                                                        Hamiltonian0,\n",
    "                                                                        GammaLM,GammaR, \n",
    "                                                                        betaL, betaR,tol,energiesreal)\n",
    "\n",
    "\n",
    "\n",
    "    V_list_convg,nP_list_conv,nM_list_conv    = Integration_Trapz_git.converged_lists(V_list_total,\n",
    "                                                                              nP_list_total , convglistP,\n",
    "                                                                                  nM_list_total, convglistM)\n",
    "\n",
    "\n",
    "    total_list.append([V_list_convg,nP_list_conv,nM_list_conv])"
   ]
  },
  {
   "cell_type": "markdown",
   "metadata": {},
   "source": [
    "# Onsager Casimir"
   ]
  },
  {
   "cell_type": "markdown",
   "metadata": {},
   "source": [
    "The transmissions satisfies $T_{LR}(m,V=0) = T_{LR}(-m,V=0)$, thus  Onsager-Casimir is satisfied."
   ]
  },
  {
   "cell_type": "code",
   "execution_count": null,
   "metadata": {},
   "outputs": [],
   "source": [
    "energies = np.linspace(-10,10,200)"
   ]
  },
  {
   "cell_type": "code",
   "execution_count": null,
   "metadata": {},
   "outputs": [],
   "source": [
    "for i in range(len(eflist)):\n",
    "    ef = eflist[i]\n",
    "    V_list_convg,nP_list_conv,nM_list_conv = total_list[i]\n",
    "    HP = negf_git.Hamiltonian_HF(nP_list_conv[0],U,Hamiltonian0)\n",
    "    HM = negf_git.Hamiltonian_HF(nM_list_conv[0],U,Hamiltonian0)\n",
    "    \n",
    "    deltaT = [ negf_git.TLR(energy,HP ,GammaLP,GammaR )-negf_git.TLR(energy,HM ,GammaLM,GammaR ) for energy in energies]\n",
    "    \n",
    "    plt.title('$T_{LR}(m,V=0)- T_{LR}(-m,V=0)$')\n",
    "    plt.plot(energies,deltaT,label = '$E_F = {}$'.format(ef))\n",
    "    plt.xlabel('Energy [eV]')\n",
    "    plt.ylabel('Transsmssion')\n",
    "    plt.legend()\n",
    "    plt.show()"
   ]
  }
 ],
 "metadata": {
  "kernelspec": {
   "display_name": "Python 3 (ipykernel)",
   "language": "python",
   "name": "python3"
  },
  "language_info": {
   "codemirror_mode": {
    "name": "ipython",
    "version": 3
   },
   "file_extension": ".py",
   "mimetype": "text/x-python",
   "name": "python",
   "nbconvert_exporter": "python",
   "pygments_lexer": "ipython3",
   "version": "3.10.6"
  }
 },
 "nbformat": 4,
 "nbformat_minor": 2
}
