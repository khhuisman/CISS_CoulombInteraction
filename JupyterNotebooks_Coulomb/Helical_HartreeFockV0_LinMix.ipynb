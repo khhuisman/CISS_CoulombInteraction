{
 "cells": [
  {
   "cell_type": "markdown",
   "metadata": {},
   "source": [
    "# Hartree Fock Approximation. "
   ]
  },
  {
   "cell_type": "markdown",
   "metadata": {},
   "source": [
    "### Structure of notebook"
   ]
  },
  {
   "cell_type": "markdown",
   "metadata": {},
   "source": [
    "1. Parameters of the cattering region are defined.\n",
    "2. Parameters of the fermi dirac function & Integration interval are defined.\n",
    "3. Electron Density is self-consistently calculated\n",
    "4. The magnetocurrent $\\Delta I(m,V) = I(m) - I(-m)$ is calculated.\n",
    "5. P value is calculated"
   ]
  },
  {
   "cell_type": "markdown",
   "metadata": {},
   "source": [
    "## Packages"
   ]
  },
  {
   "cell_type": "code",
   "execution_count": null,
   "metadata": {},
   "outputs": [],
   "source": [
    "import numpy as np\n",
    "import matplotlib.pyplot as plt"
   ]
  },
  {
   "cell_type": "markdown",
   "metadata": {},
   "source": [
    "## Path to modules"
   ]
  },
  {
   "cell_type": "code",
   "execution_count": null,
   "metadata": {},
   "outputs": [],
   "source": [
    "import sys\n",
    "sys.path.insert(0, '/Users/khhuisman/Documents/Jupyter_notebooks/Github_Coulomb_Paper_Collinear/Modules_Coulomb_Github')\n",
    "\n",
    "# sys.path.insert(0, '<path_to_modules>')"
   ]
  },
  {
   "cell_type": "markdown",
   "metadata": {},
   "source": [
    "## Scattering Region"
   ]
  },
  {
   "cell_type": "code",
   "execution_count": null,
   "metadata": {
    "scrolled": false
   },
   "outputs": [],
   "source": [
    "import ChiralChainModel_git\n",
    "import Geometry_Git\n",
    "Geometry_Git.plot3d_chain(a=1,c=1,M=1,N=8)"
   ]
  },
  {
   "cell_type": "markdown",
   "metadata": {},
   "source": [
    "## Functions for electron density"
   ]
  },
  {
   "cell_type": "code",
   "execution_count": null,
   "metadata": {},
   "outputs": [],
   "source": [
    "import handy_functions_coulomb as hfc\n",
    "import Integration_HFA as Integration_method\n",
    "import Currents_HF_git as Current_method"
   ]
  },
  {
   "cell_type": "code",
   "execution_count": null,
   "metadata": {},
   "outputs": [],
   "source": [
    "import negf_git"
   ]
  },
  {
   "cell_type": "markdown",
   "metadata": {},
   "source": [
    "# Energies to integrate over, Fermi Energy"
   ]
  },
  {
   "cell_type": "code",
   "execution_count": null,
   "metadata": {},
   "outputs": [],
   "source": [
    "def plot_densities(nP_list_conv,nM_list_conv,V_list_convg,Hamiltonian0):\n",
    "    dimlist = hfc.func_list_i(Hamiltonian0)\n",
    "    plt.title('$n_{is}(m,V) - n_{i\\overline{s}}(-m,V)$')\n",
    "    n_list_total_convgM_swap = [hfc.pairwise_swap([ nM_list_conv[i][k] for k in dimlist]) for i in range(len(V_list_convg))\n",
    "                              ]\n",
    "    nP_list_plot =[ [nP_list_conv[i][k] for k in dimlist ] for i in range(len(V_list_convg)) ]\n",
    "\n",
    "\n",
    "    plt.plot(V_list_convg,np.subtract(nP_list_plot,n_list_total_convgM_swap))\n",
    "    plt.xlabel('Bias Voltage [eV] ')\n",
    "    plt.ylabel('Electron Density')\n",
    "    plt.ticklabel_format(style=\"sci\", scilimits=(0,0))\n",
    "\n",
    "    plt.show()"
   ]
  },
  {
   "cell_type": "code",
   "execution_count": null,
   "metadata": {},
   "outputs": [],
   "source": [
    "def func_energies(Hamiltonian0,U,npoints,npoints_tail):\n",
    "    '''\n",
    "    Input:\n",
    "    Hamiltonian0 = molecule without interaction (U=0)\n",
    "    U = interaction strength\n",
    "    npoints = number of energy points in window [emin,emax]\n",
    "    Output:\n",
    "    emax = upper bound of intergral\n",
    "    emin = lowest eigenvalue of Hamiltonian0\n",
    "    energiesreal = list of energies between [emin-1000,emax] (make sure the emax < ef +Vmax/2)\n",
    "    eflist = list of fermi energies for which to calculate electron densities.\n",
    "    '''\n",
    "    evlist = np.linalg.eigh(Hamiltonian0)[0]\n",
    "    e_lumo = evlist[int(Hamiltonian0.shape[0]/2)-1]\n",
    "    e_homo = evlist[int(Hamiltonian0.shape[0]/2)]\n",
    "    #Fermi Energy\n",
    "    hl_gap = e_lumo - e_homo\n",
    "    \n",
    "    \n",
    "    \n",
    "    #lower,upper bound for Glesser function\n",
    "    emin = np.round(int(10*min(evlist))/10 - 10,2) #lower bound for integrals\n",
    "    emax = np.round(int(10*max(evlist))/10 + 10,2)   #lower bound for integrals\n",
    "    \n",
    "    \n",
    "    energies_zero4000 = np.linspace(emin-5000,emin,npoints_tail) #In wide band limit the integrand has a long \"tail\"\n",
    "   \n",
    "    energiesreal_prime = np.linspace(emin,emax,npoints)\n",
    "    \n",
    "    energiesreal = np.unique(hfc.jointwolist(energies_zero4000,energiesreal_prime))\n",
    "    \n",
    "    \n",
    "    ### Note to user: The symmetric point mentioned in paper is not EF = U/2 but EF = 0 in this case,because\n",
    "    ### the energies of the Green's function are shifted as: G+(E) -> G+(E + U/2).\n",
    "    eflist = [ abs(np.round( 0  + kappa*hl_gap/2,2)) for kappa in [0.0] ]\n",
    "    \n",
    "\n",
    "    \n",
    "    return emin,emax,npoints,energiesreal,eflist"
   ]
  },
  {
   "cell_type": "markdown",
   "metadata": {},
   "source": [
    "\n",
    "## Define Scattering Region"
   ]
  },
  {
   "cell_type": "code",
   "execution_count": null,
   "metadata": {
    "scrolled": true
   },
   "outputs": [],
   "source": [
    "Lm = 8             #number of sites \n",
    "chirality = True   #handedness of molecule \n",
    "N = Lm             # Number of sites within one winding\n",
    "M = 1              # Number of windings\n",
    "a = 1              # radius of helix\n",
    "c = 1              # pitch of helix\n",
    "\n",
    "\n",
    "epsilon = 0 # onsite energy\n",
    "t = 2.4     # hopping paramter\n",
    "\n",
    "# List of Spin-Orbit Coupling parameter\n",
    "lambdalist = [\n",
    "            (1*(10**-1))*t\n",
    "#             ,(1*(10**-3))*t\n",
    "            ]\n",
    "# List of interaction strength\n",
    "Ulist = [ 0.2*t\n",
    "#          , 0.1*t\n",
    "        ] \n",
    "\n",
    "\n",
    "#Gamma Matrix\n",
    "kmax  = 4      # Number spin up + down sites coupled to each lead\n",
    "gamma = 0.5    # coupling strength\n",
    "pz    = 0.5    # magnetic polarization\n",
    "\n",
    "pz_P = abs(pz)\n",
    "pz_M = -abs(pz)\n",
    "\n",
    "\n",
    "T = 300 # Kelvin Temperature of leads\n",
    "betaL,betaR = negf_git.func_beta(T), negf_git.func_beta(T) # 1/ElectronVolt\n",
    "\n"
   ]
  },
  {
   "cell_type": "markdown",
   "metadata": {},
   "source": [
    "\n",
    "# Bias window"
   ]
  },
  {
   "cell_type": "code",
   "execution_count": null,
   "metadata": {},
   "outputs": [],
   "source": [
    "Vmax = 0.1 # Maximum bias voltage [eV]\n",
    "dV   = 0.1 # stepsize\n",
    "V_list_pos_bias,V_list_total = hfc.func_V_total(Vmax,dV)"
   ]
  },
  {
   "cell_type": "markdown",
   "metadata": {},
   "source": [
    "# Self-Consistent criteria & Integration"
   ]
  },
  {
   "cell_type": "markdown",
   "metadata": {},
   "source": [
    "Comment on the convergence: Hartree Fock converges well for small U i.e. U<t."
   ]
  },
  {
   "cell_type": "code",
   "execution_count": null,
   "metadata": {},
   "outputs": [],
   "source": [
    "tol                 = 1*10**-5 #tolerance on the electron densities\n",
    "tol_nintegrand      = 10**-7   #cut-off for integral over Glesser function\n",
    "max_iteration       = 900      #maximum number of iterations\n",
    "npoints             = 10000    #npoints energy point for Glesser integral [emin,emax]\n",
    "npoints_tail        = 12000    #npoints energy point for Glesser integral [emin2,emin]\n",
    "alpha               = 0.0      #linear mixing paramters\n",
    "npoints_current     = 2000     #number of points for Landauer-Büttiker formula"
   ]
  },
  {
   "cell_type": "code",
   "execution_count": null,
   "metadata": {},
   "outputs": [],
   "source": [
    "for U in Ulist:\n",
    "    for lambda1 in lambdalist:\n",
    "        GammaR,GammaLP,GammaLM,Hamiltonian0,hamiltonian_shape= ChiralChainModel_git.system_hamiltonian0(Lm,\n",
    "                                                                                        epsilon,t, \n",
    "                                                                                  lambda1,chirality,\n",
    "                                                                                  a,c,M,N,\n",
    "                                                                                    kmax,gamma,abs(pz))\n",
    "        \n",
    "            \n",
    "            \n",
    "        emin,emax,npoints,energiesreal,eflist = func_energies(Hamiltonian0,U,npoints,npoints_tail)\n",
    "        emin2 = min(energiesreal)\n",
    "        \n",
    "        for ef in eflist:\n",
    "                   \n",
    "            print('ef = {},lambda1/t = {} ,U/t = {}'.format(ef,lambda1/t,U/t) )"
   ]
  },
  {
   "cell_type": "code",
   "execution_count": null,
   "metadata": {
    "scrolled": true
   },
   "outputs": [],
   "source": [
    "\n",
    "\n",
    "for U in Ulist:\n",
    "    for lambda1 in lambdalist:\n",
    "        GammaR,GammaLP,GammaLM,Hamiltonian0,hamiltonian_shape= ChiralChainModel_git.system_hamiltonian0(Lm,\n",
    "                                                                                        epsilon,t, \n",
    "                                                                                  lambda1,chirality,\n",
    "                                                                                  a,c,M,N,\n",
    "                                                                                    kmax,gamma,abs(pz))\n",
    "        \n",
    "            \n",
    "            \n",
    "        emin,emax,npoints,energiesreal,eflist = func_energies(Hamiltonian0,U,npoints,npoints_tail)\n",
    "        emin2 = min(energiesreal)\n",
    "        \n",
    "        for ef in eflist:\n",
    "            \n",
    "                   \n",
    "            print('ef = {},lambda1/t = {} ,U/t = {}'.format(ef,lambda1/t,U/t) )\n",
    "\n",
    "\n",
    "\n",
    "            paramterslist = [npoints_current,Lm,N,M,a,c,chirality,kmax,pz,gamma,T,alpha,t,U,lambda1,ef,tol, Vmax,len(V_list_total),emin2,emin,emax,npoints,npoints_tail,tol_nintegrand]\n",
    "            nP_list_total, convglistP = Integration_method.self_consistent_trapz_PN(V_list_pos_bias,Vmax,\n",
    "                                  max_iteration,\n",
    "                                ef,\n",
    "                                U,\n",
    "                                Hamiltonian0,\n",
    "                                GammaLP,GammaR, \n",
    "                                betaL, betaR,tol,energiesreal,\n",
    "                                tol_nintegrand,alpha,plot_bool=False,trackbool=True)\n",
    "\n",
    "\n",
    "            nM_list_total, convglistM = Integration_method.self_consistent_trapz_PN(V_list_pos_bias,Vmax,\n",
    "                                  max_iteration,\n",
    "                                ef,\n",
    "                                U,\n",
    "                                Hamiltonian0,\n",
    "                                GammaLM,GammaR, \n",
    "                                betaL, betaR,tol,energiesreal,\n",
    "                                tol_nintegrand,alpha,plot_bool=False,trackbool=False)\n",
    "\n",
    "\n",
    "\n",
    "            V_list_convg,nP_list_conv,nM_list_conv    = Integration_method.converged_lists(V_list_total,\n",
    "                                                                                      nP_list_total , convglistP,\n",
    "                                                                                          nM_list_total, convglistM)\n",
    "\n",
    "\n",
    "\n"
   ]
  },
  {
   "cell_type": "code",
   "execution_count": null,
   "metadata": {},
   "outputs": [],
   "source": [
    "plot_densities(nP_list_conv,nM_list_conv,V_list_convg,Hamiltonian0)"
   ]
  },
  {
   "cell_type": "markdown",
   "metadata": {},
   "source": [
    "# Currents $ I(\\pm m,V)$ "
   ]
  },
  {
   "cell_type": "code",
   "execution_count": null,
   "metadata": {},
   "outputs": [],
   "source": [
    "#Calculate Currents\n",
    "IP_list = Current_method.calc_I_trapz(npoints_current,\n",
    "                V_list_convg,ef,\n",
    "              Hamiltonian0 ,\n",
    "              GammaLP,GammaR,\n",
    "              U,nP_list_conv,\n",
    "              betaL,betaR)\n",
    "\n",
    "IM_list = Current_method.calc_I_trapz(npoints_current,\n",
    "            V_list_convg,ef,\n",
    "          Hamiltonian0 ,\n",
    "          GammaLM,GammaR,\n",
    "          U,nM_list_conv,\n",
    "          betaL,betaR)\n"
   ]
  },
  {
   "cell_type": "code",
   "execution_count": null,
   "metadata": {},
   "outputs": [],
   "source": [
    "## Currents\n",
    "plt.title('$E_F = {}, U/t = {}$, $\\lambda /t = {}$'.format(ef, U/t,lambda1/t))\n",
    "plt.plot(V_list_convg,IP_list)\n",
    "plt.plot(V_list_convg,IM_list)\n",
    "plt.xlabel('Bias Voltage [eV]')\n",
    "plt.ylabel('Current [eV]')\n",
    "plt.ticklabel_format(style=\"sci\", scilimits=(0,0))\n",
    "plt.show()"
   ]
  },
  {
   "cell_type": "markdown",
   "metadata": {},
   "source": [
    "# Magnetocurrent $\\Delta I(m,V)$ "
   ]
  },
  {
   "cell_type": "code",
   "execution_count": null,
   "metadata": {},
   "outputs": [],
   "source": [
    "\n",
    "\n",
    "### Magnetocurrent\n",
    "Vprime_list,PC_list = Current_method.func_MR_list(IP_list,IM_list,V_list_convg)\n",
    "dIlist = np.subtract(IP_list,IM_list) \n",
    "\n",
    "plt.title('$\\Delta I(m,V)$: $E_F = {}, U/t = {}$, $\\lambda /t = {}$'.format(ef,U/t,lambda1/t))\n",
    "plt.plot(V_list_convg,dIlist)\n",
    "plt.xlabel('Bias Voltage [eV]')\n",
    "plt.ylabel('Current [eV]')\n",
    "plt.ticklabel_format(style=\"sci\", scilimits=(0,0))\n",
    "\n",
    "plt.show()\n",
    "\n",
    "plt.title('$E_F = {}$, $U/t = {}$, $\\lambda /t = {}$'.format(ef,U/t,lambda1/t))\n",
    "plt.plot(Vprime_list , PC_list )\n",
    "plt.xlabel('Bias Voltage')\n",
    "plt.ylabel('$P_C$ [%]')\n",
    "plt.ticklabel_format(style=\"sci\", scilimits=(0,0))\n",
    "\n",
    "plt.show()"
   ]
  },
  {
   "cell_type": "markdown",
   "metadata": {},
   "source": [
    "# 5. P Value"
   ]
  },
  {
   "cell_type": "code",
   "execution_count": null,
   "metadata": {},
   "outputs": [],
   "source": [
    "import Pvalue"
   ]
  },
  {
   "cell_type": "code",
   "execution_count": null,
   "metadata": {},
   "outputs": [],
   "source": [
    "plt.title('$E_F = {} $, $U/t = {}$, $\\lambda /t = {}$'.format(ef,U/t,lambda1/t))\n",
    "Vlist_prime,PJ_list = Pvalue.function_PvaluedI(V_list_convg,dIlist,22)\n",
    "plt.plot(Vlist_prime,PJ_list)\n",
    "plt.xlim(0,Vmax)\n",
    "plt.ylim(-1-0.1,1+0.1)\n",
    "plt.show()"
   ]
  },
  {
   "cell_type": "code",
   "execution_count": null,
   "metadata": {},
   "outputs": [],
   "source": []
  }
 ],
 "metadata": {
  "kernelspec": {
   "display_name": "Python 3 (ipykernel)",
   "language": "python",
   "name": "python3"
  },
  "language_info": {
   "codemirror_mode": {
    "name": "ipython",
    "version": 3
   },
   "file_extension": ".py",
   "mimetype": "text/x-python",
   "name": "python",
   "nbconvert_exporter": "python",
   "pygments_lexer": "ipython3",
   "version": "3.10.6"
  }
 },
 "nbformat": 4,
 "nbformat_minor": 2
}
