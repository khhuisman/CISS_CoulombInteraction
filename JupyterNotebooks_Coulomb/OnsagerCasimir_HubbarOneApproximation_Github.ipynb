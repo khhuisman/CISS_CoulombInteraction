{
 "cells": [
  {
   "cell_type": "code",
   "execution_count": null,
   "metadata": {},
   "outputs": [],
   "source": [
    "import numpy as np\n",
    "import matplotlib.pyplot as plt"
   ]
  },
  {
   "cell_type": "markdown",
   "metadata": {},
   "source": [
    "### Path to modules"
   ]
  },
  {
   "cell_type": "code",
   "execution_count": null,
   "metadata": {},
   "outputs": [],
   "source": [
    "import sys\n",
    "sys.path.insert(0, '/Users/khhuisman/Documents/Jupyter_notebooks/Github_Coulomb_Paper_Collinear/Modules_Coulomb_Github')\n",
    "\n",
    "\n",
    "# sys.path.insert(0, '<path_to_modules>')"
   ]
  },
  {
   "cell_type": "markdown",
   "metadata": {},
   "source": [
    "# Chiral Scattering Region"
   ]
  },
  {
   "cell_type": "code",
   "execution_count": null,
   "metadata": {},
   "outputs": [],
   "source": [
    "import ChiralChainModel_git\n",
    "import handy_functions_coulomb as hfc\n"
   ]
  },
  {
   "cell_type": "markdown",
   "metadata": {},
   "source": [
    "# Import NEGF methods"
   ]
  },
  {
   "cell_type": "code",
   "execution_count": null,
   "metadata": {},
   "outputs": [],
   "source": [
    "import negf_HIA_git"
   ]
  },
  {
   "cell_type": "code",
   "execution_count": null,
   "metadata": {},
   "outputs": [],
   "source": [
    "import Integration_HIA as Integration_method"
   ]
  },
  {
   "cell_type": "markdown",
   "metadata": {},
   "source": [
    "# Defining Hamiltonian, Leads"
   ]
  },
  {
   "cell_type": "code",
   "execution_count": null,
   "metadata": {
    "scrolled": true
   },
   "outputs": [],
   "source": [
    "Lm = 8             #number of sites \n",
    "chirality = True   #handedness of molecule \n",
    "N = Lm             # Number of sites within one winding\n",
    "M = 1              # Number of windings\n",
    "a = 1              # radius of helix\n",
    "c = 1              # pitch of helix\n",
    "\n",
    "\n",
    "epsilon = 0 # onsite energy\n",
    "t = 2.4     # hopping paramter\n",
    "\n",
    "# List of Spin-Orbit Coupling parameter\n",
    "lambdalist = [(1*(10**-1))*t,(1*(10**-3))*t]\n",
    "# List of interaction strength\n",
    "Ulist = [ 2*t,0.5*t] \n",
    "\n",
    "\n",
    "#Gamma Matrix\n",
    "kmax  = 4      # Number spin up + down sites coupled to each lead\n",
    "gamma = 0.5    # coupling strength\n",
    "pz    = 0.5    # magnetic polarization\n",
    "\n",
    "pz_P = abs(pz)\n",
    "pz_M = -abs(pz)\n",
    "\n",
    "\n",
    "T = 300 # Kelvin Temperature of leads\n",
    "betaL,betaR = negf_HIA_git.func_beta(T), negf_HIA_git.func_beta(T) # 1/ElectronVolt"
   ]
  },
  {
   "cell_type": "markdown",
   "metadata": {},
   "source": [
    "# Zero Bias"
   ]
  },
  {
   "cell_type": "code",
   "execution_count": null,
   "metadata": {},
   "outputs": [],
   "source": [
    "Vmax = 0\n",
    "V_list_total = [0]"
   ]
  },
  {
   "cell_type": "markdown",
   "metadata": {},
   "source": [
    "# Energies"
   ]
  },
  {
   "cell_type": "code",
   "execution_count": null,
   "metadata": {},
   "outputs": [],
   "source": [
    "def func_energies_largeU(Hamiltonian0,U,npoints,delta_ef):\n",
    "    \n",
    "    '''\n",
    "    Input:\n",
    "    Hamiltonian0 = molecule without interaction (U=0)\n",
    "    U = interaction strength\n",
    "    npoints = number of energy points in window [emin,emax]\n",
    "    Output:\n",
    "    emax = upper bound of intergral\n",
    "    emin = lowest eigenvalue of Hamiltonian0\n",
    "    energiesreal = list of energies between [emin-1000,emax] (make sure the emax < ef +Vmax/2)\n",
    "    eflist = list of fermi energies for which to calculate electron densities.\n",
    "    \n",
    "    More usefull for very large U, since it compensates for the shift with U/2\n",
    "    '''\n",
    "    \n",
    "    evlist = np.add(np.linalg.eigh(Hamiltonian0)[0],U*np.array(hfc.list_halves(Hamiltonian0)))\n",
    "    e_lumo = evlist[int(Hamiltonian0.shape[0]/2)-1] \n",
    "    e_homo = evlist[int(Hamiltonian0.shape[0]/2)]   \n",
    "    #Fermi Energy\n",
    "    hl_gap = e_lumo - e_homo\n",
    "    \n",
    "    \n",
    "    \n",
    "    #lower,upper bound for Glesser function\n",
    "    emin = np.round(int(10*min(evlist))/10 - 10,2) #lower bound for integrals\n",
    "    emax = np.round(int(10*max(evlist))/10 + 10,2) \n",
    "    \n",
    "    energies_zero4000 = np.linspace(emin-6000,emin,8000)\n",
    "   \n",
    "    energiesreal_prime = np.linspace(emin,emax,npoints)\n",
    "    \n",
    "    energiesreal = hfc.jointwolist(energies_zero4000,energiesreal_prime)\n",
    "    \n",
    "\n",
    "    eflist = [(1 + delta_ef)*(U/2)]\n",
    "    \n",
    "    return emin,emax,npoints,energiesreal,eflist\n",
    "\n",
    "\n",
    "def func_energies(Hamiltonian0,U,npoints):\n",
    "    '''\n",
    "    Input:\n",
    "    Hamiltonian0 = molecule without interaction (U=0)\n",
    "    U = interaction strength\n",
    "    npoints = number of energy points in window [emin,emax]\n",
    "    Output:\n",
    "    emax = upper bound of intergral\n",
    "    emin = lowest eigenvalue of Hamiltonian0\n",
    "    energiesreal = list of energies between [emin-1000,emax] (make sure the emax < ef +Vmax/2)\n",
    "    eflist = list of fermi energies for which to calculate electron densities.\n",
    "    '''\n",
    "    evlist = np.linalg.eigh(Hamiltonian0)[0]\n",
    "    e_lumo = evlist[int(Hamiltonian0.shape[0]/2)-1]\n",
    "    e_homo = evlist[int(Hamiltonian0.shape[0]/2)]\n",
    "    #Fermi Energy\n",
    "    hl_gap = e_lumo - e_homo\n",
    "    \n",
    "    \n",
    "    \n",
    "    #lower,upper bound for Glesser function\n",
    "    emin = np.round(int(10*min(evlist))/10 - 10,2) #lower bound for integrals\n",
    "    emax = np.round(int(10*max(evlist))/10 + 10,2)   #lower bound for integrals\n",
    "    \n",
    "    \n",
    "    energies_zero4000 = np.linspace(emin-1000,emin,4000)\n",
    "   \n",
    "    energiesreal_prime = np.linspace(emin,emax,npoints)\n",
    "    \n",
    "    energiesreal = hfc.jointwolist(energies_zero4000,energiesreal_prime)\n",
    "    \n",
    "    \n",
    "    \n",
    "\n",
    "#     eflist = [U/2 + abs(np.round( 0  + kappa*hl_gap/2,11)) for kappa in [0.25] ]\n",
    "\n",
    "    eflist = [ U/2 ,U/2 + 0.5,U/2 + 1  ]\n",
    "    \n",
    "    return emin,emax,npoints,energiesreal,eflist"
   ]
  },
  {
   "cell_type": "markdown",
   "metadata": {},
   "source": [
    "### Electron Density: Self-Consistent Calculation\n"
   ]
  },
  {
   "cell_type": "code",
   "execution_count": null,
   "metadata": {},
   "outputs": [],
   "source": [
    "tol = 10**-3\n",
    "max_iteration = 50\n",
    "\n",
    "npoints = 3000\n",
    "\n",
    "tol_nintegrand = 10**-6"
   ]
  },
  {
   "cell_type": "code",
   "execution_count": null,
   "metadata": {},
   "outputs": [],
   "source": [
    "U = Ulist[0]\n",
    "lambda1 = lambdalist[0]"
   ]
  },
  {
   "cell_type": "code",
   "execution_count": null,
   "metadata": {
    "scrolled": true
   },
   "outputs": [],
   "source": [
    "total_list = []\n",
    "\n",
    "GammaR,GammaLP,GammaLM,Hamiltonian0,hamiltonian_shape= ChiralChainModel_git.system_hamiltonian0(Lm,\n",
    "                                                                                    epsilon,t, \n",
    "                                                                              lambda1,chirality,\n",
    "                                                                              a,c,M,N,\n",
    "                                                                                kmax,gamma,abs(pz)\n",
    "                                                                            )\n",
    "\n",
    "\n",
    "emin,emax,npoints,energies,eflist = func_energies(Hamiltonian0,U,npoints)\n",
    "\n",
    "for i in range(len(eflist)):\n",
    "    ef = eflist[i]\n",
    "    print('------ ef = {} ------'.format(ef))\n",
    "    n00_list_guess = hfc.list_halves(Hamiltonian0)\n",
    "    \n",
    "    n_list_totalP,convglistP = Integration_method.self_consistent_trapz_mixing_in(V_list_total,Vmax,\n",
    "                                  n00_list_guess,\n",
    "                                  max_iteration,\n",
    "                                ef,\n",
    "                                U,\n",
    "                                Hamiltonian0,\n",
    "                                GammaLP,GammaR, \n",
    "                                betaL, betaR,tol,energies,tol_nintegrand,alpha=0,plot_bool=False,trackbool=False)\n",
    "\n",
    "\n",
    "    n_list_totalM,convglistM = Integration_method.self_consistent_trapz_mixing_in(V_list_total,Vmax,\n",
    "                                  n00_list_guess,\n",
    "                                  max_iteration,\n",
    "                                ef,\n",
    "                                U,\n",
    "                                Hamiltonian0,\n",
    "                                GammaLM,GammaR, \n",
    "                                betaL, betaR,tol,energies,tol_nintegrand,alpha=0,plot_bool=False,trackbool=False)\n",
    "\n",
    "\n",
    "\n",
    "\n",
    "    V_list_convg,nP_list_convg,nM_list_convg =  Integration_method.converged_lists(V_list_total,\n",
    "                                                              n_list_totalP ,convglistP,\n",
    "                                                              n_list_totalM, convglistM\n",
    "                                                                )\n",
    "    \n",
    "    total_list.append( [V_list_convg,nP_list_convg,nM_list_convg])\n",
    "\n",
    "    \n",
    "\n",
    "\n",
    "    \n",
    "\n",
    "\n"
   ]
  },
  {
   "cell_type": "markdown",
   "metadata": {},
   "source": [
    "# Electron Density: Analysis"
   ]
  },
  {
   "cell_type": "markdown",
   "metadata": {},
   "source": [
    "Electron Densities at $V=0$ satisfy time reversal symmetry $n_{is}(m,V=0) - n_{i\\bar{s}}(-m,V=0)$"
   ]
  },
  {
   "cell_type": "code",
   "execution_count": null,
   "metadata": {
    "scrolled": true
   },
   "outputs": [],
   "source": [
    "\n",
    "for i in range(len(eflist)):\n",
    "    V_list_convg,nP_list_convg,nM_list_convg = total_list[i]\n",
    "    \n",
    "    nMlist0 = nM_list_convg[0]\n",
    "    nPlist0 = nP_list_convg[0]\n",
    "    ilist = [i for i in range(len(nPlist0))]\n",
    "    \n",
    "    \n",
    "    n_convgM_swap = hfc.pairwise_swap(nMlist0)\n",
    "       \n",
    "    plt.title('$n_{is}(m,V=0) - n_{i \\overline{s}}(-m,V=0)$')\n",
    "    plt.scatter(ilist ,\n",
    "             np.subtract(nPlist0,n_convgM_swap)\n",
    "            )\n",
    "    \n",
    "    plt.xlabel('Site label i')\n",
    "    plt.ylabel('Electron Density')\n",
    "\n",
    "\n",
    "    plt.show()"
   ]
  },
  {
   "cell_type": "markdown",
   "metadata": {},
   "source": [
    "# $T_{LR}(m,V=0)-T_{LR}(-m,V=0) = 0$"
   ]
  },
  {
   "cell_type": "markdown",
   "metadata": {},
   "source": [
    "From $T_{LR}(m,V=0)-T_{LR}(-m,V=0) = 0$ it follows that the linear conductance $G_1(m) = G_1(-m)$."
   ]
  },
  {
   "cell_type": "code",
   "execution_count": null,
   "metadata": {
    "scrolled": true
   },
   "outputs": [],
   "source": [
    "energies = np.linspace(-10,10,200)\n",
    "\n",
    "for i in range(len(eflist)):\n",
    "    ef = eflist[i]\n",
    "    V_list_convg,nP_list_convg,nM_list_convg = total_list[i]\n",
    "    \n",
    "    nPlist0 = nP_list_convg[0]\n",
    "    nMlist0 = nM_list_convg[0]\n",
    "    dT_list = [ negf_HIA_git.TLR(energy,Hamiltonian0,GammaLP,GammaR,U,nPlist0) \\\n",
    "               - negf_HIA_git.TLR(energy,Hamiltonian0,GammaLM,GammaR,U,nMlist0)  for energy in energies ]\n",
    "\n",
    "    \n",
    "    plt.plot(energies,dT_list,label = 'ef = {}'.format(ef))\n",
    "    plt.legend()\n",
    "    plt.show()"
   ]
  },
  {
   "cell_type": "code",
   "execution_count": null,
   "metadata": {},
   "outputs": [],
   "source": []
  }
 ],
 "metadata": {
  "kernelspec": {
   "display_name": "Python 3 (ipykernel)",
   "language": "python",
   "name": "python3"
  },
  "language_info": {
   "codemirror_mode": {
    "name": "ipython",
    "version": 3
   },
   "file_extension": ".py",
   "mimetype": "text/x-python",
   "name": "python",
   "nbconvert_exporter": "python",
   "pygments_lexer": "ipython3",
   "version": "3.10.6"
  }
 },
 "nbformat": 4,
 "nbformat_minor": 2
}
