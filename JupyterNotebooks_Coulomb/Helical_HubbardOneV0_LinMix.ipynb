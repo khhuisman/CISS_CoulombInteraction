{
 "cells": [
  {
   "cell_type": "markdown",
   "metadata": {},
   "source": [
    "# Hubbard One Approximation"
   ]
  },
  {
   "cell_type": "markdown",
   "metadata": {},
   "source": [
    "### Structure of notebook"
   ]
  },
  {
   "cell_type": "markdown",
   "metadata": {},
   "source": [
    "1. Parameters of the cattering region are defined.\n",
    "2. Parameters of the fermi dirac function & Integration interval are defined.\n",
    "3. Electron Density is self-consistently calculated\n",
    "4. The magnetocurrent $\\Delta I(m,V) = I(m) - I(-m)$ is calculated.\n",
    "5. P value is calculated"
   ]
  },
  {
   "cell_type": "code",
   "execution_count": null,
   "metadata": {},
   "outputs": [],
   "source": [
    "import numpy as np\n",
    "import matplotlib.pyplot as plt"
   ]
  },
  {
   "cell_type": "markdown",
   "metadata": {},
   "source": [
    "### Path to modules"
   ]
  },
  {
   "cell_type": "code",
   "execution_count": null,
   "metadata": {},
   "outputs": [],
   "source": [
    "import sys\n",
    "sys.path.insert(0, '/Users/khhuisman/Documents/Jupyter_notebooks/Github_Coulomb_Paper_Collinear/Modules_Coulomb_Github')\n",
    "import handy_functions_coulomb as hfc\n",
    "# sys.path.insert(0, '<path_to_modules>')"
   ]
  },
  {
   "cell_type": "markdown",
   "metadata": {},
   "source": [
    "# Chiral Scattering Region"
   ]
  },
  {
   "cell_type": "code",
   "execution_count": null,
   "metadata": {
    "scrolled": true
   },
   "outputs": [],
   "source": [
    "import ChiralChainModel_git\n",
    "import Geometry_Git\n",
    "Geometry_Git.plot3d_chain(a=1,c=1,M=1,N=8)"
   ]
  },
  {
   "cell_type": "markdown",
   "metadata": {},
   "source": [
    "# Import NEGF methods"
   ]
  },
  {
   "cell_type": "code",
   "execution_count": null,
   "metadata": {},
   "outputs": [],
   "source": [
    "import negf_HIA_git"
   ]
  },
  {
   "cell_type": "code",
   "execution_count": null,
   "metadata": {},
   "outputs": [],
   "source": [
    "import Integration_HIA as Integration_method"
   ]
  },
  {
   "cell_type": "markdown",
   "metadata": {},
   "source": [
    "# 1. Defining Hamiltonian, Leads"
   ]
  },
  {
   "cell_type": "code",
   "execution_count": null,
   "metadata": {
    "scrolled": true
   },
   "outputs": [],
   "source": [
    "Lm = 8             #number of sites \n",
    "chirality = True   #handedness of molecule \n",
    "N = Lm             # Number of sites within one winding\n",
    "M = 1              # Number of windings\n",
    "a = 1              # radius of helix\n",
    "c = 1              # pitch of helix\n",
    "\n",
    "\n",
    "epsilon = 0 # onsite energy\n",
    "t = 2.4     # hopping paramter\n",
    "\n",
    "# List of Spin-Orbit Coupling parameter used in publication\n",
    "lambdalist = [(1*(10**-3))*t\n",
    "#               ,(1*(10**-3))*t\n",
    "             ]\n",
    "# List of interaction strengths used in publication\n",
    "Ulist = [ 0.5*t] \n",
    "\n",
    "\n",
    "#Gamma Matrix\n",
    "kmax  = 4      # Number spin up + down sites coupled to each lead\n",
    "gamma = 0.5    # coupling strength\n",
    "pz    = 0.5    # magnetic polarization\n",
    "\n",
    "T = 300 # Kelvin Temperature of leads\n",
    "betaL,betaR = negf_HIA_git.func_beta(T), negf_HIA_git.func_beta(T) # 1/ElectronVolt\n",
    "\n"
   ]
  },
  {
   "cell_type": "markdown",
   "metadata": {},
   "source": [
    "# 2. Fermi Energy, Energies to integrate over"
   ]
  },
  {
   "cell_type": "code",
   "execution_count": null,
   "metadata": {},
   "outputs": [],
   "source": [
    "def func_energies_largeU(Hamiltonian0,U,npoints,delta_ef):\n",
    "    \n",
    "    '''\n",
    "    Input:\n",
    "    Hamiltonian0 = molecule without interaction (U=0)\n",
    "    U = interaction strength\n",
    "    npoints = number of energy points in window [emin,emax]\n",
    "    Output:\n",
    "    emax = upper bound of intergral\n",
    "    emin = lowest eigenvalue of Hamiltonian0\n",
    "    energiesreal = list of energies between [emin-1000,emax] (make sure the emax < ef +Vmax/2)\n",
    "    eflist = list of fermi energies for which to calculate electron densities.\n",
    "    \n",
    "    More usefull for very large U, since it compensates for the shift with U/2\n",
    "    '''\n",
    "    \n",
    "    evlist = np.add(np.linalg.eigh(Hamiltonian0)[0],U*np.array(hfc.list_halves(Hamiltonian0)))\n",
    "    e_lumo = evlist[int(Hamiltonian0.shape[0]/2)-1] \n",
    "    e_homo = evlist[int(Hamiltonian0.shape[0]/2)]   \n",
    "    #Fermi Energy\n",
    "    hl_gap = e_lumo - e_homo\n",
    "    \n",
    "    \n",
    "    \n",
    "    #lower,upper bound for Glesser function\n",
    "    emin = np.round(int(10*min(evlist))/10 - 10,2) #lower bound for integrals\n",
    "    emax = np.round(int(10*max(evlist))/10 + 10,2) \n",
    "    \n",
    "    energies_zero4000 = np.linspace(emin-6000,emin,8000)\n",
    "   \n",
    "    energiesreal_prime = np.linspace(emin,emax,npoints)\n",
    "    \n",
    "    energiesreal = hfc.jointwolist(energies_zero4000,energiesreal_prime)\n",
    "    \n",
    "\n",
    "    eflist = [(1 + delta_ef)*(U/2)]\n",
    "    \n",
    "    return emin,emax,npoints,energiesreal,eflist\n",
    "\n",
    "\n",
    "def func_energies(Hamiltonian0,U,npoints):\n",
    "    '''\n",
    "    Input:\n",
    "    Hamiltonian0 = molecule without interaction (U=0)\n",
    "    U = interaction strength\n",
    "    npoints = number of energy points in window [emin,emax]\n",
    "    Output:\n",
    "    emax = upper bound of intergral\n",
    "    emin = lowest eigenvalue of Hamiltonian0\n",
    "    energiesreal = list of energies between [emin-1000,emax] (make sure the emax < ef +Vmax/2)\n",
    "    eflist = list of fermi energies for which to calculate electron densities.\n",
    "    '''\n",
    "    evlist = np.linalg.eigh(Hamiltonian0)[0]\n",
    "    e_lumo = evlist[int(Hamiltonian0.shape[0]/2)-1]\n",
    "    e_homo = evlist[int(Hamiltonian0.shape[0]/2)]\n",
    "    #Fermi Energy\n",
    "    hl_gap = e_lumo - e_homo\n",
    "    \n",
    "    \n",
    "    \n",
    "    #lower,upper bound for Glesser function\n",
    "    emin = np.round(int(10*min(evlist))/10 - 10,2) #lower bound for integrals\n",
    "    emax = np.round(int(10*max(evlist))/10 + 10,2)   #lower bound for integrals\n",
    "    \n",
    "    \n",
    "    energies_zero4000 = np.linspace(emin-3000,emin,4000)\n",
    "   \n",
    "    energiesreal_prime = np.linspace(emin,emax,npoints)\n",
    "    \n",
    "    energiesreal = np.unique(hfc.jointwolist(energies_zero4000,energiesreal_prime))\n",
    "    \n",
    "\n",
    "#     eflist = [U/2 + abs(np.round( 0  + kappa*hl_gap/2,11)) for kappa in [0.25] ]\n",
    "\n",
    "    eflist = [ U/2 ]\n",
    "    \n",
    "    return emin,emax,npoints,energiesreal,eflist"
   ]
  },
  {
   "cell_type": "markdown",
   "metadata": {},
   "source": [
    "# 2.  Bias window"
   ]
  },
  {
   "cell_type": "code",
   "execution_count": null,
   "metadata": {},
   "outputs": [],
   "source": [
    "Vmax = 0.1  # Maximum bias voltage [eV]\n",
    "dV = 0.1 # stepsize\n",
    "V_list_pos_bias,V_list_total = hfc.func_V_total(Vmax,dV)\n",
    "print(len(V_list_total),V_list_pos_bias)"
   ]
  },
  {
   "cell_type": "markdown",
   "metadata": {},
   "source": [
    "# 2. Energes to integrate over"
   ]
  },
  {
   "cell_type": "markdown",
   "metadata": {},
   "source": [
    "Comment on the convergence: \n",
    "- For big $U$ $(U > t)$ use $\\alpha \\in [0,0.1]$.\n",
    "- For small $U$ $(U < t)$ use $\\alpha > 0.75 $."
   ]
  },
  {
   "cell_type": "code",
   "execution_count": null,
   "metadata": {},
   "outputs": [],
   "source": [
    "tol = 10**-5\n",
    "tol_nintegrand = 10**-7 #minimum value for the integrand of <nis>\n",
    "\n",
    "max_iteration = 400\n",
    "\n",
    "npoints = 20000\n",
    "alpha = 0.88\n"
   ]
  },
  {
   "cell_type": "markdown",
   "metadata": {},
   "source": [
    "#### Set Coulomb interaction strength and SOC paramter"
   ]
  },
  {
   "cell_type": "code",
   "execution_count": null,
   "metadata": {},
   "outputs": [],
   "source": [
    "U       = Ulist[0]\n",
    "lambda1 = lambdalist[0]\n",
    "\n",
    "GammaR,GammaLP,GammaLM,Hamiltonian0,hamiltonian_shape= ChiralChainModel_git.system_hamiltonian0(Lm,\n",
    "                                                                                    epsilon,t, \n",
    "                                                                              lambda1,chirality,\n",
    "                                                                              a,c,M,N,\n",
    "                                                                                kmax,gamma,abs(pz)\n",
    "                                                                            )\n",
    "\n",
    "\n",
    "emin,emax,npoints,energies,eflist = func_energies(Hamiltonian0,U,npoints)"
   ]
  },
  {
   "cell_type": "code",
   "execution_count": null,
   "metadata": {},
   "outputs": [],
   "source": [
    "# DOS plot to see that ef is in between the HOMO,LUMO level (these are the first two peaks one sees w.r.t. EF = U/2):\n",
    "# Integration_method.plot_DOS([0],\n",
    "#                                    [hfc.halves_list(Hamiltonian0)],\n",
    "# eflist[0],U,Hamiltonian0, GammaLP,GammaR,0,False)"
   ]
  },
  {
   "cell_type": "markdown",
   "metadata": {},
   "source": [
    "# 3. Electron Densities"
   ]
  },
  {
   "cell_type": "markdown",
   "metadata": {},
   "source": [
    "Note: Hubbard One converges well for large U "
   ]
  },
  {
   "cell_type": "code",
   "execution_count": null,
   "metadata": {
    "scrolled": true
   },
   "outputs": [],
   "source": [
    "\n",
    "\n",
    "for i in range(len(eflist)):\n",
    "    \n",
    "    ef = eflist[i]\n",
    "    print(ef,lambda1/t,U/t)\n",
    "\n",
    "    n_list_totalP,convglistP = Integration_method.self_consistent_trapz_PN(V_list_pos_bias,Vmax,\n",
    "                                  max_iteration,\n",
    "                                ef,\n",
    "                                U,\n",
    "                                Hamiltonian0,\n",
    "                                GammaLP,GammaR, \n",
    "                                betaL, betaR,tol,\n",
    "                                energies,tol_nintegrand,alpha,plot_bool=False,trackbool=True)\n",
    "\n",
    "\n",
    "    n_list_totalM,convglistM = Integration_method.self_consistent_trapz_PN(V_list_pos_bias,Vmax,\n",
    "                                  max_iteration,\n",
    "                                ef,\n",
    "                                U,\n",
    "                                Hamiltonian0,\n",
    "                                GammaLM,GammaR, \n",
    "                                betaL, betaR,tol,\n",
    "                                energies,tol_nintegrand,alpha,plot_bool=False,trackbool=False)\n",
    "\n",
    "\n",
    "    V_list_convg,nP_list_convg,nM_list_convg =  Integration_method.converged_lists(V_list_total,\n",
    "                                                              n_list_totalP ,convglistP,\n",
    "                                                              n_list_totalM, convglistM)"
   ]
  },
  {
   "cell_type": "code",
   "execution_count": null,
   "metadata": {},
   "outputs": [],
   "source": [
    "n_list_total_convgM_swap = [hfc.pairwise_swap(nM_list_convg[i]) for i in range(len(nM_list_convg))]\n",
    "\n",
    "plt.plot(V_list_convg,np.subtract(nP_list_convg,n_list_total_convgM_swap))\n",
    "plt.xlabel('Bias Voltage [eV] ')\n",
    "plt.ylabel('Electron Density')\n",
    "plt.ticklabel_format(style=\"sci\", scilimits=(0,0))\n",
    "\n",
    "\n",
    "plt.show()"
   ]
  },
  {
   "cell_type": "code",
   "execution_count": null,
   "metadata": {
    "scrolled": true
   },
   "outputs": [],
   "source": [
    "Integration_method.plot_DOS(V_list_convg,nP_list_convg,\n",
    "             ef,U,\n",
    "             Hamiltonian0,GammaLP,GammaR,\n",
    "             4,True)"
   ]
  },
  {
   "cell_type": "markdown",
   "metadata": {},
   "source": [
    "# 4. Magnetocurrent"
   ]
  },
  {
   "cell_type": "code",
   "execution_count": null,
   "metadata": {},
   "outputs": [],
   "source": [
    "import Currents_HIA_git as Current_method"
   ]
  },
  {
   "cell_type": "code",
   "execution_count": null,
   "metadata": {},
   "outputs": [],
   "source": [
    "for i in range(len(eflist)):\n",
    "    ef = eflist[i]\n",
    "    IP_list = Current_method.calc_I_trapz(8000,\n",
    "                    V_list_convg,ef,\n",
    "                  Hamiltonian0 ,\n",
    "                  GammaLP,GammaR,\n",
    "                  U,nP_list_convg,\n",
    "                  betaL,betaR)\n",
    "    \n",
    "    IM_list = Current_method.calc_I_trapz(8000,\n",
    "                V_list_convg,ef,\n",
    "              Hamiltonian0 ,\n",
    "              GammaLM,GammaR,\n",
    "              U,nM_list_convg,\n",
    "              betaL,betaR)"
   ]
  },
  {
   "cell_type": "code",
   "execution_count": null,
   "metadata": {},
   "outputs": [],
   "source": [
    "plt.title('$U/t = {}$, $\\lambda /t = {}$'.format(U/t,lambda1/t))\n",
    "plt.plot(V_list_convg,IP_list)\n",
    "plt.plot(V_list_convg,IM_list)\n",
    "plt.xlabel('Bias Voltage [eV]')\n",
    "plt.ylabel('Current [eV]')\n",
    "plt.ticklabel_format(style=\"sci\", scilimits=(0,0))\n",
    "\n",
    "plt.show()"
   ]
  },
  {
   "cell_type": "code",
   "execution_count": null,
   "metadata": {},
   "outputs": [],
   "source": [
    "dIlist= np.subtract(IP_list,IM_list)\n",
    "Vprime, PClist = Current_method.func_MR_list(IP_list,IM_list,V_list_convg)"
   ]
  },
  {
   "cell_type": "code",
   "execution_count": null,
   "metadata": {},
   "outputs": [],
   "source": [
    "plt.title('Colinear $\\Delta I(m): ef = {},U/t = {}$, $\\lambda /t = {}$'.format(ef,U/t,lambda1/t))\n",
    "plt.plot(V_list_convg,dIlist)\n",
    "plt.xlabel('Bias Voltage [eV]')\n",
    "plt.ylabel('Current [eV]')\n",
    "plt.ticklabel_format(style=\"sci\", scilimits=(0,0))\n",
    "\n",
    "plt.show()"
   ]
  },
  {
   "cell_type": "code",
   "execution_count": null,
   "metadata": {},
   "outputs": [],
   "source": [
    "plt.title('$E_F = U/2:$ $ U/t = {}$, $\\lambda /t = {}$'.format(U/t,lambda1/t))\n",
    "plt.plot(Vprime , PClist )\n",
    "plt.xlabel('Bias Voltage')\n",
    "plt.ylabel('$P_C$ [%]')\n",
    "plt.ticklabel_format(style=\"sci\", scilimits=(0,0))\n",
    "\n",
    "plt.show()"
   ]
  },
  {
   "cell_type": "markdown",
   "metadata": {},
   "source": [
    "# 5. P Value"
   ]
  },
  {
   "cell_type": "code",
   "execution_count": null,
   "metadata": {},
   "outputs": [],
   "source": [
    "import Pvalue"
   ]
  },
  {
   "cell_type": "code",
   "execution_count": null,
   "metadata": {},
   "outputs": [],
   "source": [
    "Vlist_prime,PJ_list = Pvalue.function_PvaluedI(V_list_convg,dIlist,8)"
   ]
  },
  {
   "cell_type": "code",
   "execution_count": null,
   "metadata": {},
   "outputs": [],
   "source": [
    "plt.plot(Vlist_prime,PJ_list)\n",
    "plt.xlim(0,Vmax)\n",
    "plt.ylim(-1-0.1,1+0.1)\n",
    "plt.xlabel('Bias Voltage [eV]')\n",
    "plt.ylabel('P')\n",
    "plt.show()"
   ]
  }
 ],
 "metadata": {
  "kernelspec": {
   "display_name": "Python 3 (ipykernel)",
   "language": "python",
   "name": "python3"
  },
  "language_info": {
   "codemirror_mode": {
    "name": "ipython",
    "version": 3
   },
   "file_extension": ".py",
   "mimetype": "text/x-python",
   "name": "python",
   "nbconvert_exporter": "python",
   "pygments_lexer": "ipython3",
   "version": "3.10.6"
  }
 },
 "nbformat": 4,
 "nbformat_minor": 2
}
